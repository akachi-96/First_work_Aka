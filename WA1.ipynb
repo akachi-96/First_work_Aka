{
  "nbformat": 4,
  "nbformat_minor": 0,
  "metadata": {
    "colab": {
      "name": "WA1.ipynb",
      "provenance": [],
      "authorship_tag": "ABX9TyMGJc3PApOCSpjT9YaschHu",
      "include_colab_link": true
    },
    "kernelspec": {
      "name": "python3",
      "display_name": "Python 3"
    },
    "language_info": {
      "name": "python"
    }
  },
  "cells": [
    {
      "cell_type": "markdown",
      "metadata": {
        "id": "view-in-github",
        "colab_type": "text"
      },
      "source": [
        "<a href=\"https://colab.research.google.com/github/akachi-96/First_work_Aka/blob/main/WA1.ipynb\" target=\"_parent\"><img src=\"https://colab.research.google.com/assets/colab-badge.svg\" alt=\"Open In Colab\"/></a>"
      ]
    },
    {
      "cell_type": "code",
      "execution_count": 7,
      "metadata": {
        "id": "z1nOnaUhon6V"
      },
      "outputs": [],
      "source": [
        "import numpy as np\n"
      ]
    },
    {
      "cell_type": "code",
      "source": [
        "import pandas as pd\n",
        "df = pd.read_csv('https://raw.githubusercontent.com/zekuva/Udacity-datasets/main/world_alcohol.csv')"
      ],
      "metadata": {
        "id": "Oa1aHGR5rCaK"
      },
      "execution_count": 3,
      "outputs": []
    },
    {
      "cell_type": "code",
      "source": [
        "df.head()"
      ],
      "metadata": {
        "colab": {
          "base_uri": "https://localhost:8080/",
          "height": 206
        },
        "id": "fQdF1znQrhu3",
        "outputId": "cd38dffa-af1c-42b7-8292-a6f7692e0b4c"
      },
      "execution_count": 4,
      "outputs": [
        {
          "output_type": "execute_result",
          "data": {
            "text/plain": [
              "   Year       WHO region                Country Beverage Types  Display Value\n",
              "0  1986  Western Pacific               Viet Nam           Wine           0.00\n",
              "1  1986         Americas                Uruguay          Other           0.50\n",
              "2  1985           Africa           Cte d'Ivoire           Wine           1.62\n",
              "3  1986         Americas               Colombia           Beer           4.27\n",
              "4  1987         Americas  Saint Kitts and Nevis           Beer           1.98"
            ],
            "text/html": [
              "\n",
              "  <div id=\"df-04252948-127e-4554-9522-7e4006092a0d\">\n",
              "    <div class=\"colab-df-container\">\n",
              "      <div>\n",
              "<style scoped>\n",
              "    .dataframe tbody tr th:only-of-type {\n",
              "        vertical-align: middle;\n",
              "    }\n",
              "\n",
              "    .dataframe tbody tr th {\n",
              "        vertical-align: top;\n",
              "    }\n",
              "\n",
              "    .dataframe thead th {\n",
              "        text-align: right;\n",
              "    }\n",
              "</style>\n",
              "<table border=\"1\" class=\"dataframe\">\n",
              "  <thead>\n",
              "    <tr style=\"text-align: right;\">\n",
              "      <th></th>\n",
              "      <th>Year</th>\n",
              "      <th>WHO region</th>\n",
              "      <th>Country</th>\n",
              "      <th>Beverage Types</th>\n",
              "      <th>Display Value</th>\n",
              "    </tr>\n",
              "  </thead>\n",
              "  <tbody>\n",
              "    <tr>\n",
              "      <th>0</th>\n",
              "      <td>1986</td>\n",
              "      <td>Western Pacific</td>\n",
              "      <td>Viet Nam</td>\n",
              "      <td>Wine</td>\n",
              "      <td>0.00</td>\n",
              "    </tr>\n",
              "    <tr>\n",
              "      <th>1</th>\n",
              "      <td>1986</td>\n",
              "      <td>Americas</td>\n",
              "      <td>Uruguay</td>\n",
              "      <td>Other</td>\n",
              "      <td>0.50</td>\n",
              "    </tr>\n",
              "    <tr>\n",
              "      <th>2</th>\n",
              "      <td>1985</td>\n",
              "      <td>Africa</td>\n",
              "      <td>Cte d'Ivoire</td>\n",
              "      <td>Wine</td>\n",
              "      <td>1.62</td>\n",
              "    </tr>\n",
              "    <tr>\n",
              "      <th>3</th>\n",
              "      <td>1986</td>\n",
              "      <td>Americas</td>\n",
              "      <td>Colombia</td>\n",
              "      <td>Beer</td>\n",
              "      <td>4.27</td>\n",
              "    </tr>\n",
              "    <tr>\n",
              "      <th>4</th>\n",
              "      <td>1987</td>\n",
              "      <td>Americas</td>\n",
              "      <td>Saint Kitts and Nevis</td>\n",
              "      <td>Beer</td>\n",
              "      <td>1.98</td>\n",
              "    </tr>\n",
              "  </tbody>\n",
              "</table>\n",
              "</div>\n",
              "      <button class=\"colab-df-convert\" onclick=\"convertToInteractive('df-04252948-127e-4554-9522-7e4006092a0d')\"\n",
              "              title=\"Convert this dataframe to an interactive table.\"\n",
              "              style=\"display:none;\">\n",
              "        \n",
              "  <svg xmlns=\"http://www.w3.org/2000/svg\" height=\"24px\"viewBox=\"0 0 24 24\"\n",
              "       width=\"24px\">\n",
              "    <path d=\"M0 0h24v24H0V0z\" fill=\"none\"/>\n",
              "    <path d=\"M18.56 5.44l.94 2.06.94-2.06 2.06-.94-2.06-.94-.94-2.06-.94 2.06-2.06.94zm-11 1L8.5 8.5l.94-2.06 2.06-.94-2.06-.94L8.5 2.5l-.94 2.06-2.06.94zm10 10l.94 2.06.94-2.06 2.06-.94-2.06-.94-.94-2.06-.94 2.06-2.06.94z\"/><path d=\"M17.41 7.96l-1.37-1.37c-.4-.4-.92-.59-1.43-.59-.52 0-1.04.2-1.43.59L10.3 9.45l-7.72 7.72c-.78.78-.78 2.05 0 2.83L4 21.41c.39.39.9.59 1.41.59.51 0 1.02-.2 1.41-.59l7.78-7.78 2.81-2.81c.8-.78.8-2.07 0-2.86zM5.41 20L4 18.59l7.72-7.72 1.47 1.35L5.41 20z\"/>\n",
              "  </svg>\n",
              "      </button>\n",
              "      \n",
              "  <style>\n",
              "    .colab-df-container {\n",
              "      display:flex;\n",
              "      flex-wrap:wrap;\n",
              "      gap: 12px;\n",
              "    }\n",
              "\n",
              "    .colab-df-convert {\n",
              "      background-color: #E8F0FE;\n",
              "      border: none;\n",
              "      border-radius: 50%;\n",
              "      cursor: pointer;\n",
              "      display: none;\n",
              "      fill: #1967D2;\n",
              "      height: 32px;\n",
              "      padding: 0 0 0 0;\n",
              "      width: 32px;\n",
              "    }\n",
              "\n",
              "    .colab-df-convert:hover {\n",
              "      background-color: #E2EBFA;\n",
              "      box-shadow: 0px 1px 2px rgba(60, 64, 67, 0.3), 0px 1px 3px 1px rgba(60, 64, 67, 0.15);\n",
              "      fill: #174EA6;\n",
              "    }\n",
              "\n",
              "    [theme=dark] .colab-df-convert {\n",
              "      background-color: #3B4455;\n",
              "      fill: #D2E3FC;\n",
              "    }\n",
              "\n",
              "    [theme=dark] .colab-df-convert:hover {\n",
              "      background-color: #434B5C;\n",
              "      box-shadow: 0px 1px 3px 1px rgba(0, 0, 0, 0.15);\n",
              "      filter: drop-shadow(0px 1px 2px rgba(0, 0, 0, 0.3));\n",
              "      fill: #FFFFFF;\n",
              "    }\n",
              "  </style>\n",
              "\n",
              "      <script>\n",
              "        const buttonEl =\n",
              "          document.querySelector('#df-04252948-127e-4554-9522-7e4006092a0d button.colab-df-convert');\n",
              "        buttonEl.style.display =\n",
              "          google.colab.kernel.accessAllowed ? 'block' : 'none';\n",
              "\n",
              "        async function convertToInteractive(key) {\n",
              "          const element = document.querySelector('#df-04252948-127e-4554-9522-7e4006092a0d');\n",
              "          const dataTable =\n",
              "            await google.colab.kernel.invokeFunction('convertToInteractive',\n",
              "                                                     [key], {});\n",
              "          if (!dataTable) return;\n",
              "\n",
              "          const docLinkHtml = 'Like what you see? Visit the ' +\n",
              "            '<a target=\"_blank\" href=https://colab.research.google.com/notebooks/data_table.ipynb>data table notebook</a>'\n",
              "            + ' to learn more about interactive tables.';\n",
              "          element.innerHTML = '';\n",
              "          dataTable['output_type'] = 'display_data';\n",
              "          await google.colab.output.renderOutput(dataTable, element);\n",
              "          const docLink = document.createElement('div');\n",
              "          docLink.innerHTML = docLinkHtml;\n",
              "          element.appendChild(docLink);\n",
              "        }\n",
              "      </script>\n",
              "    </div>\n",
              "  </div>\n",
              "  "
            ]
          },
          "metadata": {},
          "execution_count": 4
        }
      ]
    },
    {
      "cell_type": "code",
      "source": [
        "df['Display Value']"
      ],
      "metadata": {
        "colab": {
          "base_uri": "https://localhost:8080/"
        },
        "id": "kvAKEdgQrv7R",
        "outputId": "c597aa28-c33d-4e4c-c110-4a2805a196bf"
      },
      "execution_count": 5,
      "outputs": [
        {
          "output_type": "execute_result",
          "data": {
            "text/plain": [
              "0     0.00\n",
              "1     0.50\n",
              "2     1.62\n",
              "3     4.27\n",
              "4     1.98\n",
              "      ... \n",
              "95    0.00\n",
              "96    7.38\n",
              "97    0.00\n",
              "98    0.00\n",
              "99    0.00\n",
              "Name: Display Value, Length: 100, dtype: float64"
            ]
          },
          "metadata": {},
          "execution_count": 5
        }
      ]
    },
    {
      "cell_type": "code",
      "source": [
        "ar_d = np.array(df['Display Value'])"
      ],
      "metadata": {
        "id": "IEpKtqhksFVu"
      },
      "execution_count": 9,
      "outputs": []
    },
    {
      "cell_type": "code",
      "source": [
        "ar_d.size"
      ],
      "metadata": {
        "colab": {
          "base_uri": "https://localhost:8080/"
        },
        "id": "-VS8HdySsf-V",
        "outputId": "d501d60b-fbe0-4843-8fd8-17d6b0c7eac5"
      },
      "execution_count": 11,
      "outputs": [
        {
          "output_type": "execute_result",
          "data": {
            "text/plain": [
              "100"
            ]
          },
          "metadata": {},
          "execution_count": 11
        }
      ]
    },
    {
      "cell_type": "code",
      "source": [
        "df.shape\n",
        "df.size"
      ],
      "metadata": {
        "colab": {
          "base_uri": "https://localhost:8080/"
        },
        "id": "n_H70J1es4fA",
        "outputId": "3f4df38f-d7a0-4920-992a-06d3bf6466a6"
      },
      "execution_count": 13,
      "outputs": [
        {
          "output_type": "execute_result",
          "data": {
            "text/plain": [
              "500"
            ]
          },
          "metadata": {},
          "execution_count": 13
        }
      ]
    },
    {
      "cell_type": "code",
      "source": [
        "df.info()"
      ],
      "metadata": {
        "colab": {
          "base_uri": "https://localhost:8080/"
        },
        "id": "KNGorK08tXU3",
        "outputId": "2a4b8f3e-933a-4199-901f-385b4f0b4730"
      },
      "execution_count": 14,
      "outputs": [
        {
          "output_type": "stream",
          "name": "stdout",
          "text": [
            "<class 'pandas.core.frame.DataFrame'>\n",
            "RangeIndex: 100 entries, 0 to 99\n",
            "Data columns (total 5 columns):\n",
            " #   Column          Non-Null Count  Dtype  \n",
            "---  ------          --------------  -----  \n",
            " 0   Year            100 non-null    int64  \n",
            " 1   WHO region      100 non-null    object \n",
            " 2   Country         100 non-null    object \n",
            " 3   Beverage Types  100 non-null    object \n",
            " 4   Display Value   95 non-null     float64\n",
            "dtypes: float64(1), int64(1), object(3)\n",
            "memory usage: 4.0+ KB\n"
          ]
        }
      ]
    },
    {
      "cell_type": "code",
      "source": [
        "ar_e = np.array(df['Country'])\n",
        "\n",
        "ar_e"
      ],
      "metadata": {
        "colab": {
          "base_uri": "https://localhost:8080/"
        },
        "id": "tZzop2BmtmSf",
        "outputId": "fc776f27-0d7c-40aa-a291-f56c1516eb57"
      },
      "execution_count": 16,
      "outputs": [
        {
          "output_type": "execute_result",
          "data": {
            "text/plain": [
              "array(['Viet Nam', 'Uruguay', \"Cte d'Ivoire\", 'Colombia',\n",
              "       'Saint Kitts and Nevis', 'Guatemala', 'Mauritius', 'Angola',\n",
              "       'Antigua and Barbuda', 'Nigeria', 'Botswana', 'Guatemala',\n",
              "       \"Lao People's Democratic Republic\", 'Afghanistan', 'Viet Nam',\n",
              "       'Guinea-Bissau', 'Costa Rica', 'Seychelles', 'Norway', 'Kenya',\n",
              "       'Myanmar', 'Costa Rica', 'Romania', 'Turkey', 'Comoros', 'Tunisia',\n",
              "       'United Kingdom of Great Britain and Northern Ireland', 'Bahrain',\n",
              "       'Viet Nam', 'Italy', 'Sierra Leone',\n",
              "       'Micronesia (Federated States of)', 'Mauritius', 'Mauritania',\n",
              "       'Russian Federation', 'Saint Kitts and Nevis', 'Egypt', 'Sweden',\n",
              "       'Qatar', 'Burkina Faso', 'Austria', 'Czech Republic', 'Ukraine',\n",
              "       'China', 'Lithuania', 'Zimbabwe', 'Trinidad and Tobago', 'Mexico',\n",
              "       'Nicaragua', 'Malta', 'Switzerland', 'Finland', 'Saudi Arabia',\n",
              "       'Kuwait', 'El Salvador', 'Suriname', 'Viet Nam', 'Croatia',\n",
              "       'Somalia', 'Syrian Arab Republic', 'Iran (Islamic Republic of)',\n",
              "       'Papua New Guinea', 'Suriname', 'Libya',\n",
              "       'Bolivia (Plurinational State of)', 'Somalia', 'Iraq', 'Namibia',\n",
              "       'Uganda', 'Togo', 'Madagascar', 'Mali', 'Mauritania', 'Pakistan',\n",
              "       'Bolivia (Plurinational State of)', 'Afghanistan', 'Comoros',\n",
              "       'Cameroon', 'Jamaica', 'Finland', 'Malawi', 'Netherlands',\n",
              "       'Ireland', 'Ukraine', 'Sri Lanka',\n",
              "       'Democratic Republic of the Congo', 'Bahamas', 'Iraq', 'Lebanon',\n",
              "       'Lebanon', 'Malawi', 'Bulgaria', 'Eritrea', 'Madagascar',\n",
              "       'Ukraine', 'Niger', 'Luxembourg', 'Indonesia', 'Equatorial Guinea',\n",
              "       \"Democratic People's Republic of Korea\"], dtype=object)"
            ]
          },
          "metadata": {},
          "execution_count": 16
        }
      ]
    },
    {
      "cell_type": "code",
      "source": [
        "np.array(['df'])"
      ],
      "metadata": {
        "colab": {
          "base_uri": "https://localhost:8080/"
        },
        "id": "K4NRuAdBuFHz",
        "outputId": "afa6071c-65e5-42d2-a409-33b0a845b6b8"
      },
      "execution_count": 17,
      "outputs": [
        {
          "output_type": "execute_result",
          "data": {
            "text/plain": [
              "array(['df'], dtype='<U2')"
            ]
          },
          "metadata": {},
          "execution_count": 17
        }
      ]
    },
    {
      "cell_type": "code",
      "source": [
        "tt = np.array(df)\n",
        "\n",
        "print(tt)"
      ],
      "metadata": {
        "colab": {
          "base_uri": "https://localhost:8080/"
        },
        "id": "t4PLunuLuPOg",
        "outputId": "2d3ed4d2-f27d-4dfa-95dc-8c26d24230be"
      },
      "execution_count": 19,
      "outputs": [
        {
          "output_type": "stream",
          "name": "stdout",
          "text": [
            "[[1986 'Western Pacific' 'Viet Nam' 'Wine' 0.0]\n",
            " [1986 'Americas' 'Uruguay' 'Other' 0.5]\n",
            " [1985 'Africa' \"Cte d'Ivoire\" 'Wine' 1.62]\n",
            " [1986 'Americas' 'Colombia' 'Beer' 4.27]\n",
            " [1987 'Americas' 'Saint Kitts and Nevis' 'Beer' 1.98]\n",
            " [1987 'Americas' 'Guatemala' 'Other' 0.0]\n",
            " [1987 'Africa' 'Mauritius' 'Wine' 0.13]\n",
            " [1985 'Africa' 'Angola' 'Spirits' 0.39]\n",
            " [1986 'Americas' 'Antigua and Barbuda' 'Spirits' 1.55]\n",
            " [1984 'Africa' 'Nigeria' 'Other' 6.1]\n",
            " [1987 'Africa' 'Botswana' 'Wine' 0.2]\n",
            " [1989 'Americas' 'Guatemala' 'Beer' 0.62]\n",
            " [1985 'Western Pacific' \"Lao People's Democratic Republic\" 'Beer' 0.0]\n",
            " [1984 'Eastern Mediterranean' 'Afghanistan' 'Other' 0.0]\n",
            " [1985 'Western Pacific' 'Viet Nam' 'Spirits' 0.05]\n",
            " [1987 'Africa' 'Guinea-Bissau' 'Wine' 0.07]\n",
            " [1984 'Americas' 'Costa Rica' 'Wine' 0.06]\n",
            " [1989 'Africa' 'Seychelles' 'Beer' 2.23]\n",
            " [1984 'Europe' 'Norway' 'Spirits' 1.62]\n",
            " [1984 'Africa' 'Kenya' 'Beer' 1.08]\n",
            " [1986 'South-East Asia' 'Myanmar' 'Wine' 0.0]\n",
            " [1989 'Americas' 'Costa Rica' 'Spirits' 4.51]\n",
            " [1984 'Europe' 'Romania' 'Spirits' 2.67]\n",
            " [1984 'Europe' 'Turkey' 'Beer' 0.44]\n",
            " [1985 'Africa' 'Comoros' 'Other' nan]\n",
            " [1984 'Eastern Mediterranean' 'Tunisia' 'Other' 0.0]\n",
            " [1985 'Europe' 'United Kingdom of Great Britain and Northern Ireland'\n",
            "  'Wine' 1.36]\n",
            " [1984 'Eastern Mediterranean' 'Bahrain' 'Beer' 2.22]\n",
            " [1987 'Western Pacific' 'Viet Nam' 'Beer' 0.11]\n",
            " [1986 'Europe' 'Italy' 'Other' nan]\n",
            " [1986 'Africa' 'Sierra Leone' 'Other' 4.48]\n",
            " [1986 'Western Pacific' 'Micronesia (Federated States of)' 'Wine' 0.0]\n",
            " [1989 'Africa' 'Mauritius' 'Beer' 1.6]\n",
            " [1985 'Africa' 'Mauritania' 'Other' 0.0]\n",
            " [1986 'Europe' 'Russian Federation' 'Wine' 0.8]\n",
            " [1985 'Americas' 'Saint Kitts and Nevis' 'Spirits' 2.24]\n",
            " [1987 'Eastern Mediterranean' 'Egypt' 'Beer' 0.07]\n",
            " [1986 'Europe' 'Sweden' 'Beer' 3.04]\n",
            " [1987 'Eastern Mediterranean' 'Qatar' 'Other' 0.0]\n",
            " [1987 'Africa' 'Burkina Faso' 'Spirits' 0.01]\n",
            " [1987 'Europe' 'Austria' 'Spirits' 1.9]\n",
            " [1986 'Europe' 'Czech Republic' 'Beer' 6.82]\n",
            " [1984 'Europe' 'Ukraine' 'Spirits' 3.06]\n",
            " [1984 'Western Pacific' 'China' 'Wine' 0.03]\n",
            " [1985 'Europe' 'Lithuania' 'Other' nan]\n",
            " [1989 'Africa' 'Zimbabwe' 'Beer' 0.19]\n",
            " [1987 'Americas' 'Trinidad and Tobago' 'Spirits' 2.26]\n",
            " [1986 'Americas' 'Mexico' 'Other' 0.04]\n",
            " [1987 'Americas' 'Nicaragua' 'Beer' 0.7]\n",
            " [1986 'Europe' 'Malta' 'Wine' 1.49]\n",
            " [1985 'Europe' 'Switzerland' 'Other' 0.3]\n",
            " [1987 'Europe' 'Finland' 'Beer' 3.88]\n",
            " [1986 'Eastern Mediterranean' 'Saudi Arabia' 'Wine' 0.0]\n",
            " [1984 'Eastern Mediterranean' 'Kuwait' 'Beer' 0.0]\n",
            " [1984 'Americas' 'El Salvador' 'Spirits' 1.81]\n",
            " [1989 'Americas' 'Suriname' 'Wine' 0.04]\n",
            " [1987 'Western Pacific' 'Viet Nam' 'Wine' 0.0]\n",
            " [1989 'Europe' 'Croatia' 'Wine' 5.1]\n",
            " [1984 'Eastern Mediterranean' 'Somalia' 'Spirits' 0.0]\n",
            " [1989 'Eastern Mediterranean' 'Syrian Arab Republic' 'Other' 0.0]\n",
            " [1987 'Eastern Mediterranean' 'Iran (Islamic Republic of)' 'Other' 0.0]\n",
            " [1984 'Western Pacific' 'Papua New Guinea' 'Spirits' 0.08]\n",
            " [1987 'Americas' 'Suriname' 'Other' 0.0]\n",
            " [1985 'Eastern Mediterranean' 'Libya' 'Other' 0.0]\n",
            " [1989 'Americas' 'Bolivia (Plurinational State of)' 'Beer' 1.26]\n",
            " [1989 'Eastern Mediterranean' 'Somalia' 'Beer' 0.0]\n",
            " [1987 'Eastern Mediterranean' 'Iraq' 'Wine' 0.01]\n",
            " [1989 'Africa' 'Namibia' 'Beer' 0.0]\n",
            " [1989 'Africa' 'Uganda' 'Beer' 0.12]\n",
            " [1986 'Africa' 'Togo' 'Spirits' 0.42]\n",
            " [1986 'Africa' 'Madagascar' 'Spirits' 1.02]\n",
            " [1985 'Africa' 'Mali' 'Other' 0.57]\n",
            " [1987 'Africa' 'Mauritania' 'Other' 0.0]\n",
            " [1986 'Eastern Mediterranean' 'Pakistan' 'Other' 0.01]\n",
            " [1986 'Americas' 'Bolivia (Plurinational State of)' 'Spirits' 2.06]\n",
            " [1989 'Eastern Mediterranean' 'Afghanistan' 'Other' 0.0]\n",
            " [1985 'Africa' 'Comoros' 'Beer' 0.02]\n",
            " [1985 'Africa' 'Cameroon' 'Spirits' 0.01]\n",
            " [1989 'Americas' 'Jamaica' 'Other' 0.0]\n",
            " [1989 'Europe' 'Finland' 'Other' 2.09]\n",
            " [1985 'Africa' 'Malawi' 'Other' 0.84]\n",
            " [1985 'Europe' 'Netherlands' 'Wine' 2.54]\n",
            " [1987 'Europe' 'Ireland' 'Spirits' 2.25]\n",
            " [1986 'Europe' 'Ukraine' 'Other' nan]\n",
            " [1986 'South-East Asia' 'Sri Lanka' 'Other' 0.0]\n",
            " [1985 'Africa' 'Democratic Republic of the Congo' 'Wine' 0.01]\n",
            " [1986 'Americas' 'Bahamas' 'Wine' 1.83]\n",
            " [1989 'Eastern Mediterranean' 'Iraq' 'Wine' 0.01]\n",
            " [1987 'Eastern Mediterranean' 'Lebanon' 'Beer' 0.42]\n",
            " [1986 'Eastern Mediterranean' 'Lebanon' 'Wine' 0.7]\n",
            " [1989 'Africa' 'Malawi' 'Wine' 0.01]\n",
            " [1989 'Europe' 'Bulgaria' 'Beer' 4.43]\n",
            " [1986 'Africa' 'Eritrea' 'Spirits' 0.0]\n",
            " [1987 'Africa' 'Madagascar' 'Other' nan]\n",
            " [1985 'Europe' 'Ukraine' 'Spirits' 3.06]\n",
            " [1984 'Africa' 'Niger' 'Other' 0.0]\n",
            " [1985 'Europe' 'Luxembourg' 'Wine' 7.38]\n",
            " [1984 'South-East Asia' 'Indonesia' 'Wine' 0.0]\n",
            " [1984 'Africa' 'Equatorial Guinea' 'Wine' 0.0]\n",
            " [1985 'South-East Asia' \"Democratic People's Republic of Korea\" 'Wine'\n",
            "  0.0]]\n"
          ]
        }
      ]
    },
    {
      "cell_type": "code",
      "source": [
        "tt.size\n",
        "tt.shape"
      ],
      "metadata": {
        "colab": {
          "base_uri": "https://localhost:8080/"
        },
        "id": "bCB1hkm-uxsh",
        "outputId": "055a9994-a439-4d57-c505-7e9e67d37fd5"
      },
      "execution_count": 21,
      "outputs": [
        {
          "output_type": "execute_result",
          "data": {
            "text/plain": [
              "(100, 5)"
            ]
          },
          "metadata": {},
          "execution_count": 21
        }
      ]
    },
    {
      "cell_type": "code",
      "source": [
        ""
      ],
      "metadata": {
        "id": "pQXzd12IwA1u"
      },
      "execution_count": null,
      "outputs": []
    }
  ]
}